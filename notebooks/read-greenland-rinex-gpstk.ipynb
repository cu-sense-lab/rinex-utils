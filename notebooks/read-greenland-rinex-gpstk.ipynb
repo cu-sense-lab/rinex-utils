{
 "cells": [
  {
   "cell_type": "code",
   "execution_count": null,
   "metadata": {},
   "outputs": [],
   "source": [
    "# filepath = '/media/DataStore/breitsbw/data/rinex/greenland/qaq10220.12o'\n",
    "# filepath = '/media/DataStore/breitsbw/data/rinex/greenland/scor0220.12o'\n",
    "# filepath = '/media/DataStore/breitsbw/data/rinex/greenland/thu20220.12o'\n",
    "filepath = '/media/DataStore/breitsbw/data/rinex/greenland/thu30220.12o'"
   ]
  },
  {
   "cell_type": "markdown",
   "metadata": {},
   "source": [
    "GPSTK will read uncompressed RINEX files ('o' extension).\n",
    "\n",
    "We read record-by-record."
   ]
  },
  {
   "cell_type": "code",
   "execution_count": null,
   "metadata": {},
   "outputs": [],
   "source": [
    "import gpstk\n",
    "import numpy\n",
    "from numpy import zeros, arange, array, nan"
   ]
  },
  {
   "cell_type": "code",
   "execution_count": null,
   "metadata": {},
   "outputs": [],
   "source": [
    "header, records = gpstk.readRinexObs(filepath)"
   ]
  },
  {
   "cell_type": "code",
   "execution_count": null,
   "metadata": {},
   "outputs": [],
   "source": [
    "N = 0\n",
    "for record in records:\n",
    "    N += 1\n",
    "print('There are {0} records'.format(N))"
   ]
  },
  {
   "cell_type": "markdown",
   "metadata": {},
   "source": [
    "Given that there are `N` records in the file (should be 86400 for 1 Hz data rate), we should preallocate our observable arrays accordingly."
   ]
  },
  {
   "cell_type": "code",
   "execution_count": null,
   "metadata": {},
   "outputs": [],
   "source": [
    "obs_descriptions = [o.description for o in header.obsTypeList]\n",
    "print('Observations:\\n\\n' + '\\n'.join(obs_descriptions))"
   ]
  },
  {
   "cell_type": "code",
   "execution_count": null,
   "metadata": {},
   "outputs": [],
   "source": [
    "# we need to pick names for these variables that will be valid MATLAB/Python variable names\n",
    "alternate_names = {'C/A-code pseudorange': 'psr_l1',\n",
    "                   'L1 Carrier Phase': 'phs_l1',\n",
    "                   'L2 Carrier Phase': 'phs_l2',\n",
    "                   'Pcode L1 pseudorange': 'psr_l1p',\n",
    "                   'Pcode L2 pseudorange': 'psr_l2p',\n",
    "                   'Doppler Frequency L1': 'dopp_l1',\n",
    "                   'Doppler Frequency L2': 'dopp_l2',\n",
    "                   'Signal-to-Noise L1': 'snr_l1',\n",
    "                   'Signal-to-Noise L2': 'snr_l2'}"
   ]
  },
  {
   "cell_type": "markdown",
   "metadata": {},
   "source": [
    ".\n",
    "\n",
    ".\n"
   ]
  },
  {
   "cell_type": "code",
   "execution_count": null,
   "metadata": {},
   "outputs": [],
   "source": [
    "header, records = gpstk.readRinexObs(filepath)"
   ]
  },
  {
   "cell_type": "code",
   "execution_count": null,
   "metadata": {},
   "outputs": [],
   "source": [
    "data = {}\n",
    "for name in alternate_names.values():\n",
    "    data[name] = nan * zeros((32, N))  # just GPS satellites"
   ]
  },
  {
   "cell_type": "code",
   "execution_count": null,
   "metadata": {},
   "outputs": [],
   "source": [
    "data['rx_ecef'] = tuple(header.antennaPosition[i] for i in range(3))"
   ]
  },
  {
   "cell_type": "code",
   "execution_count": null,
   "metadata": {},
   "outputs": [],
   "source": [
    "i = 0  # record number, i.e. seconds from start of day (1Hz data)\n",
    "for record in records:\n",
    "    record_dict = record.obs.asdict()\n",
    "    for sat_id in record_dict.keys():\n",
    "        prn = sat_id.id\n",
    "        sat_obs_dict = record_dict[sat_id].asdict()\n",
    "        for key in sat_obs_dict.keys():\n",
    "            var_name = alternate_names[key.description]\n",
    "            data[var_name][prn - 1, i] = sat_obs_dict[key].data\n",
    "    i += 1"
   ]
  },
  {
   "cell_type": "code",
   "execution_count": null,
   "metadata": {},
   "outputs": [],
   "source": [
    "outpath = '/media/DataStore/breitsbw/data/parsed/greenland_data_2012-01-22/'\n",
    "outfilename = filepath.split('/')[-1][:-3] + 'dat'\n",
    "outfilepath = outpath + outfilename\n",
    "print(outfilepath)"
   ]
  },
  {
   "cell_type": "code",
   "execution_count": null,
   "metadata": {},
   "outputs": [],
   "source": [
    "numpy.savez(outfilepath, **data)"
   ]
  },
  {
   "cell_type": "markdown",
   "metadata": {},
   "source": [
    ".\n",
    "\n",
    ".\n",
    "\n",
    "."
   ]
  },
  {
   "cell_type": "code",
   "execution_count": null,
   "metadata": {},
   "outputs": [],
   "source": [
    "record.numSvs"
   ]
  },
  {
   "cell_type": "code",
   "execution_count": null,
   "metadata": {},
   "outputs": [],
   "source": [
    "d = record.obs.asdict()"
   ]
  },
  {
   "cell_type": "code",
   "execution_count": null,
   "metadata": {},
   "outputs": [],
   "source": [
    "for sat_id in d.keys():\n",
    "    print(sat_id.id)\n",
    "    obs = d[sat_id]\n",
    "    obs_dict = obs.asdict()\n",
    "    types = obs_dict.keys()\n",
    "    for t in types:\n",
    "        o = obs_dict[t]\n",
    "        print(t.description, o.data)\n",
    "    break"
   ]
  },
  {
   "cell_type": "code",
   "execution_count": null,
   "metadata": {},
   "outputs": [],
   "source": [
    "obs_list = [o.description for o in header.obsTypeList]\n",
    "print('\\n'.join(obs_list))"
   ]
  },
  {
   "cell_type": "code",
   "execution_count": null,
   "metadata": {},
   "outputs": [],
   "source": [
    "d[gpstk.gpstk.SatID(30, gpstk.SatID.systemGPS)]"
   ]
  },
  {
   "cell_type": "markdown",
   "metadata": {},
   "source": [
    ".\n",
    "\n",
    ".\n",
    "\n",
    ".\n",
    "\n",
    "."
   ]
  },
  {
   "cell_type": "code",
   "execution_count": null,
   "metadata": {},
   "outputs": [],
   "source": [
    "obs_list = [o.description for o in header.obsTypeList]\n",
    "print('\\n'.join(obs_list))"
   ]
  },
  {
   "cell_type": "markdown",
   "metadata": {},
   "source": [
    "### header meta data\n",
    "\n",
    "The header supposedly contains information about what signal observables are listed in the file."
   ]
  },
  {
   "cell_type": "code",
   "execution_count": null,
   "metadata": {},
   "outputs": [],
   "source": [
    "obstype = header.RegisteredRinexObsTypes[0]"
   ]
  },
  {
   "cell_type": "code",
   "execution_count": null,
   "metadata": {},
   "outputs": [],
   "source": [
    "for obstype in header.RegisteredRinexObsTypes:\n",
    "    print(obstype.C1depend, obstype.EPdepend, obstype.L1depend, obstype.L2depend,\n",
    "          obstype.P1depend, obstype.P2depend, obstype.PSdepend, obstype.depend, obstype.description)"
   ]
  },
  {
   "cell_type": "code",
   "execution_count": null,
   "metadata": {},
   "outputs": [],
   "source": [
    "import gpstk"
   ]
  },
  {
   "cell_type": "code",
   "execution_count": null,
   "metadata": {},
   "outputs": [],
   "source": []
  }
 ],
 "metadata": {
  "kernelspec": {
   "display_name": "Python 2 (System)",
   "language": "python",
   "name": "system_python2"
  },
  "language_info": {
   "codemirror_mode": {
    "name": "ipython",
    "version": 2
   },
   "file_extension": ".py",
   "mimetype": "text/x-python",
   "name": "python",
   "nbconvert_exporter": "python",
   "pygments_lexer": "ipython2",
   "version": "2.7.6"
  }
 },
 "nbformat": 4,
 "nbformat_minor": 0
}
