{
 "cells": [
  {
   "cell_type": "code",
   "execution_count": 1,
   "metadata": {
    "collapsed": true
   },
   "outputs": [],
   "source": [
    "# filepath = '/media/DataStore/breitsbw/data/rinex/greenland/qaq10220.12o'\n",
    "# filepath = '/media/DataStore/breitsbw/data/rinex/greenland/scor0220.12o'\n",
    "# filepath = '/media/DataStore/breitsbw/data/rinex/greenland/thu20220.12o'\n",
    "filepath = '/media/DataStore/breitsbw/data/rinex/greenland/thu30220.12o'"
   ]
  },
  {
   "cell_type": "markdown",
   "metadata": {},
   "source": [
    "GPSTK will read uncompressed RINEX files ('o' extension).\n",
    "\n",
    "We read record-by-record."
   ]
  },
  {
   "cell_type": "code",
   "execution_count": 2,
   "metadata": {
    "collapsed": true
   },
   "outputs": [],
   "source": [
    "import gpstk\n",
    "import numpy\n",
    "from numpy import zeros, arange, array, nan"
   ]
  },
  {
   "cell_type": "code",
   "execution_count": 3,
   "metadata": {
    "collapsed": true
   },
   "outputs": [],
   "source": [
    "header, records = gpstk.readRinexObs(filepath)"
   ]
  },
  {
   "cell_type": "code",
   "execution_count": 4,
   "metadata": {
    "collapsed": false
   },
   "outputs": [
    {
     "name": "stdout",
     "output_type": "stream",
     "text": [
      "There are 86400 records\n"
     ]
    }
   ],
   "source": [
    "N = 0\n",
    "for record in records:\n",
    "    N += 1\n",
    "print('There are {0} records'.format(N))"
   ]
  },
  {
   "cell_type": "markdown",
   "metadata": {},
   "source": [
    "Given that there are `N` records in the file (should be 86400 for 1 Hz data rate), we should preallocate our observable arrays accordingly."
   ]
  },
  {
   "cell_type": "code",
   "execution_count": 5,
   "metadata": {
    "collapsed": false
   },
   "outputs": [
    {
     "name": "stdout",
     "output_type": "stream",
     "text": [
      "Observations:\n",
      "\n",
      "C/A-code pseudorange\n",
      "L1 Carrier Phase\n",
      "L2 Carrier Phase\n",
      "Pcode L1 pseudorange\n",
      "Pcode L2 pseudorange\n",
      "Doppler Frequency L1\n",
      "Doppler Frequency L2\n",
      "Signal-to-Noise L1\n",
      "Signal-to-Noise L2\n"
     ]
    }
   ],
   "source": [
    "obs_descriptions = [o.description for o in header.obsTypeList]\n",
    "print('Observations:\\n\\n' + '\\n'.join(obs_descriptions))"
   ]
  },
  {
   "cell_type": "code",
   "execution_count": 6,
   "metadata": {
    "collapsed": true
   },
   "outputs": [],
   "source": [
    "# we need to pick names for these variables that will be valid MATLAB/Python variable names\n",
    "alternate_names = {'C/A-code pseudorange': 'psr_l1',\n",
    "                   'L1 Carrier Phase': 'phs_l1',\n",
    "                   'L2 Carrier Phase': 'phs_l2',\n",
    "                   'Pcode L1 pseudorange': 'psr_l1p',\n",
    "                   'Pcode L2 pseudorange': 'psr_l2p',\n",
    "                   'Doppler Frequency L1': 'dopp_l1',\n",
    "                   'Doppler Frequency L2': 'dopp_l2',\n",
    "                   'Signal-to-Noise L1': 'snr_l1',\n",
    "                   'Signal-to-Noise L2': 'snr_l2'}"
   ]
  },
  {
   "cell_type": "markdown",
   "metadata": {},
   "source": [
    ".\n",
    "\n",
    ".\n"
   ]
  },
  {
   "cell_type": "code",
   "execution_count": 7,
   "metadata": {
    "collapsed": true
   },
   "outputs": [],
   "source": [
    "header, records = gpstk.readRinexObs(filepath)"
   ]
  },
  {
   "cell_type": "code",
   "execution_count": 44,
   "metadata": {
    "collapsed": false
   },
   "outputs": [],
   "source": [
    "data = {}\n",
    "for name in alternate_names.values():\n",
    "    data[name] = nan * zeros((32, N))  # just GPS satellites"
   ]
  },
  {
   "cell_type": "code",
   "execution_count": 45,
   "metadata": {
    "collapsed": true
   },
   "outputs": [],
   "source": [
    "data['rx_ecef'] = tuple(header.antennaPosition[i] for i in range(3))"
   ]
  },
  {
   "cell_type": "code",
   "execution_count": 46,
   "metadata": {
    "collapsed": false
   },
   "outputs": [],
   "source": [
    "i = 0  # record number, i.e. seconds from start of day (1Hz data)\n",
    "for record in records:\n",
    "    record_dict = record.obs.asdict()\n",
    "    for sat_id in record_dict.keys():\n",
    "        prn = sat_id.id\n",
    "        sat_obs_dict = record_dict[sat_id].asdict()\n",
    "        for key in sat_obs_dict.keys():\n",
    "            var_name = alternate_names[key.description]\n",
    "            data[var_name][prn - 1, i] = sat_obs_dict[key].data\n",
    "    i += 1"
   ]
  },
  {
   "cell_type": "code",
   "execution_count": 47,
   "metadata": {
    "collapsed": false
   },
   "outputs": [
    {
     "name": "stdout",
     "output_type": "stream",
     "text": [
      "/media/DataStore/breitsbw/data/parsed/greenland_data_2012-01-22/thu30220.dat\n"
     ]
    }
   ],
   "source": [
    "outpath = '/media/DataStore/breitsbw/data/parsed/greenland_data_2012-01-22/'\n",
    "outfilename = filepath.split('/')[-1][:-3] + 'dat'\n",
    "outfilepath = outpath + outfilename\n",
    "print(outfilepath)"
   ]
  },
  {
   "cell_type": "code",
   "execution_count": 48,
   "metadata": {
    "collapsed": true
   },
   "outputs": [],
   "source": [
    "numpy.savez(outfilepath, **data)"
   ]
  },
  {
   "cell_type": "markdown",
   "metadata": {},
   "source": [
    ".\n",
    "\n",
    ".\n",
    "\n",
    "."
   ]
  },
  {
   "cell_type": "code",
   "execution_count": 16,
   "metadata": {
    "collapsed": false
   },
   "outputs": [
    {
     "data": {
      "text/plain": [
       "11L"
      ]
     },
     "execution_count": 16,
     "metadata": {},
     "output_type": "execute_result"
    }
   ],
   "source": [
    "record.numSvs"
   ]
  },
  {
   "cell_type": "code",
   "execution_count": 21,
   "metadata": {
    "collapsed": false
   },
   "outputs": [],
   "source": [
    "d = record.obs.asdict()"
   ]
  },
  {
   "cell_type": "code",
   "execution_count": 36,
   "metadata": {
    "collapsed": false
   },
   "outputs": [
    {
     "name": "stdout",
     "output_type": "stream",
     "text": [
      "32\n",
      "('C/A-code pseudorange', 23473284.929)\n",
      "('Pcode L2 pseudorange', 23473288.317)\n",
      "('Signal-to-Noise L2', 42.0)\n",
      "('Doppler Frequency L1', 1975.206)\n",
      "('Signal-to-Noise L1', 47.0)\n",
      "('L2 Carrier Phase', -8768108.152)\n",
      "('Doppler Frequency L2', 1539.131)\n",
      "('L1 Carrier Phase', -11261282.892)\n",
      "('Pcode L1 pseudorange', 23473282.699)\n"
     ]
    }
   ],
   "source": [
    "for sat_id in d.keys():\n",
    "    print(sat_id.id)\n",
    "    obs = d[sat_id]\n",
    "    obs_dict = obs.asdict()\n",
    "    types = obs_dict.keys()\n",
    "    for t in types:\n",
    "        o = obs_dict[t]\n",
    "        print(t.description, o.data)\n",
    "    break"
   ]
  },
  {
   "cell_type": "code",
   "execution_count": 48,
   "metadata": {
    "collapsed": false
   },
   "outputs": [
    {
     "name": "stdout",
     "output_type": "stream",
     "text": [
      "C/A-code pseudorange\n",
      "L1 Carrier Phase\n",
      "L2 Carrier Phase\n",
      "Pcode L1 pseudorange\n",
      "Pcode L2 pseudorange\n",
      "Doppler Frequency L1\n",
      "Doppler Frequency L2\n",
      "Signal-to-Noise L1\n",
      "Signal-to-Noise L2\n"
     ]
    }
   ],
   "source": [
    "obs_list = [o.description for o in header.obsTypeList]\n",
    "print('\\n'.join(obs_list))"
   ]
  },
  {
   "cell_type": "code",
   "execution_count": 28,
   "metadata": {
    "collapsed": false
   },
   "outputs": [
    {
     "ename": "KeyError",
     "evalue": "<gpstk.gpstk.SatID; proxy of <Swig Object of type 'gpstk::SatID *' at 0x7f361c7d5bd0> >",
     "output_type": "error",
     "traceback": [
      "\u001b[1;31m---------------------------------------------------------------------------\u001b[0m",
      "\u001b[1;31mKeyError\u001b[0m                                  Traceback (most recent call last)",
      "\u001b[1;32m<ipython-input-28-2781487097a8>\u001b[0m in \u001b[0;36m<module>\u001b[1;34m()\u001b[0m\n\u001b[1;32m----> 1\u001b[1;33m \u001b[0md\u001b[0m\u001b[1;33m[\u001b[0m\u001b[0mgpstk\u001b[0m\u001b[1;33m.\u001b[0m\u001b[0mgpstk\u001b[0m\u001b[1;33m.\u001b[0m\u001b[0mSatID\u001b[0m\u001b[1;33m(\u001b[0m\u001b[1;36m30\u001b[0m\u001b[1;33m,\u001b[0m \u001b[0mgpstk\u001b[0m\u001b[1;33m.\u001b[0m\u001b[0mSatID\u001b[0m\u001b[1;33m.\u001b[0m\u001b[0msystemGPS\u001b[0m\u001b[1;33m)\u001b[0m\u001b[1;33m]\u001b[0m\u001b[1;33m\u001b[0m\u001b[0m\n\u001b[0m",
      "\u001b[1;31mKeyError\u001b[0m: <gpstk.gpstk.SatID; proxy of <Swig Object of type 'gpstk::SatID *' at 0x7f361c7d5bd0> >"
     ]
    }
   ],
   "source": [
    "d[gpstk.gpstk.SatID(30, gpstk.SatID.systemGPS)]"
   ]
  },
  {
   "cell_type": "markdown",
   "metadata": {},
   "source": [
    ".\n",
    "\n",
    ".\n",
    "\n",
    ".\n",
    "\n",
    "."
   ]
  },
  {
   "cell_type": "code",
   "execution_count": 48,
   "metadata": {
    "collapsed": false
   },
   "outputs": [
    {
     "name": "stdout",
     "output_type": "stream",
     "text": [
      "C/A-code pseudorange\n",
      "L1 Carrier Phase\n",
      "L2 Carrier Phase\n",
      "Pcode L1 pseudorange\n",
      "Pcode L2 pseudorange\n",
      "Doppler Frequency L1\n",
      "Doppler Frequency L2\n",
      "Signal-to-Noise L1\n",
      "Signal-to-Noise L2\n"
     ]
    }
   ],
   "source": [
    "obs_list = [o.description for o in header.obsTypeList]\n",
    "print('\\n'.join(obs_list))"
   ]
  },
  {
   "cell_type": "markdown",
   "metadata": {},
   "source": [
    "### header meta data\n",
    "\n",
    "The header supposedly contains information about what signal observables are listed in the file."
   ]
  },
  {
   "cell_type": "code",
   "execution_count": null,
   "metadata": {
    "collapsed": true
   },
   "outputs": [],
   "source": [
    "obstype = header.RegisteredRinexObsTypes[0]"
   ]
  },
  {
   "cell_type": "code",
   "execution_count": null,
   "metadata": {
    "collapsed": true
   },
   "outputs": [],
   "source": [
    "for obstype in header.RegisteredRinexObsTypes:\n",
    "    print(obstype.C1depend, obstype.EPdepend, obstype.L1depend, obstype.L2depend,\n",
    "          obstype.P1depend, obstype.P2depend, obstype.PSdepend, obstype.depend, obstype.description)"
   ]
  },
  {
   "cell_type": "code",
   "execution_count": 1,
   "metadata": {
    "collapsed": true
   },
   "outputs": [],
   "source": [
    "import gpstk"
   ]
  },
  {
   "cell_type": "code",
   "execution_count": null,
   "metadata": {
    "collapsed": true
   },
   "outputs": [],
   "source": []
  }
 ],
 "metadata": {
  "kernelspec": {
   "display_name": "Python 2 (System)",
   "language": "python",
   "name": "system_python2"
  },
  "language_info": {
   "codemirror_mode": {
    "name": "ipython",
    "version": 2
   },
   "file_extension": ".py",
   "mimetype": "text/x-python",
   "name": "python",
   "nbconvert_exporter": "python",
   "pygments_lexer": "ipython2",
   "version": "2.7.6"
  }
 },
 "nbformat": 4,
 "nbformat_minor": 0
}
