{
 "cells": [
  {
   "cell_type": "code",
   "execution_count": null,
   "metadata": {},
   "outputs": [],
   "source": [
    "from data_utils.downloader import ftp_download\n",
    "from data_utils.file_manager import format_filepath\n",
    "from data_utils.decompress import decompress\n",
    "from datetime import datetime\n",
    "import os"
   ]
  },
  {
   "cell_type": "code",
   "execution_count": null,
   "metadata": {},
   "outputs": [],
   "source": [
    "ftp_host = 'cddis.gsfc.nasa.gov'\n",
    "filepath_template = \\\n",
    "    'pub/gps/data/daily/{yyyy}/{ddd}/{yy}o/nist{ddd}0.{yy}o.Z'\n",
    "url_filepath = format_filepath(filepath_template, datetime(2019, 1, 20))"
   ]
  },
  {
   "cell_type": "code",
   "execution_count": null,
   "metadata": {},
   "outputs": [],
   "source": [
    "filepath = os.path.join('/media/share/brianbw/data/rinex/', url_filepath)\n",
    "if not os.path.exists(os.path.dirname(filepath)):\n",
    "    os.makedirs(os.path.dirname(filepath))\n",
    "if not os.path.exists(filepath):\n",
    "    success = ftp_download(ftp_host, url_filepath, filepath)\n",
    "decompress(filepath, filepath[:-2])\n",
    "filepath = filepath[:-2]"
   ]
  },
  {
   "cell_type": "code",
   "execution_count": null,
   "metadata": {},
   "outputs": [],
   "source": [
    "from rinex_utils.rinex3 import parse_RINEX3_obs_file\n",
    "from rinex_utils.rinex2 import parse_RINEX2_obs_file"
   ]
  },
  {
   "cell_type": "code",
   "execution_count": null,
   "metadata": {},
   "outputs": [],
   "source": [
    "header, observations = parse_RINEX2_obs_file(filepath)"
   ]
  },
  {
   "cell_type": "code",
   "execution_count": null,
   "metadata": {},
   "outputs": [],
   "source": [
    "ftp_host = 'cddis.gsfc.nasa.gov'\n",
    "filepath_template = \\\n",
    "    'gnss/data/daily/{yyyy}/{ddd}/{yy}o/zimm{ddd}0.{yy}o.Z'\n",
    "url_filepath = format_filepath(filepath_template, datetime(2019, 1, 20))"
   ]
  },
  {
   "cell_type": "code",
   "execution_count": null,
   "metadata": {},
   "outputs": [],
   "source": [
    "filepath = os.path.join('/media/share/brianbw/data/rinex/', url_filepath)\n",
    "if not os.path.exists(os.path.dirname(filepath)):\n",
    "    os.makedirs(os.path.dirname(filepath))\n",
    "success = ftp_download(ftp_host, url_filepath, filepath)\n",
    "decompress(filepath, filepath[:-2])\n",
    "filepath = filepath[:-2]"
   ]
  },
  {
   "cell_type": "code",
   "execution_count": null,
   "metadata": {},
   "outputs": [],
   "source": [
    "header, observations = parse_RINEX2_obs_file(filepath)"
   ]
  },
  {
   "cell_type": "code",
   "execution_count": null,
   "metadata": {},
   "outputs": [],
   "source": []
  }
 ],
 "metadata": {
  "kernelspec": {
   "display_name": "Python 3",
   "language": "python",
   "name": "python3"
  },
  "language_info": {
   "codemirror_mode": {
    "name": "ipython",
    "version": 3
   },
   "file_extension": ".py",
   "mimetype": "text/x-python",
   "name": "python",
   "nbconvert_exporter": "python",
   "pygments_lexer": "ipython3",
   "version": "3.7.1"
  }
 },
 "nbformat": 4,
 "nbformat_minor": 2
}
