{
 "cells": [
  {
   "cell_type": "code",
   "execution_count": 1,
   "metadata": {
    "collapsed": true
   },
   "outputs": [],
   "source": [
    "# filepath = '/media/DataStore/breitsbw/data/rinex/greenland/qaq10220.12d'\n",
    "filepath = '/media/DataStore/breitsbw/data/rinex/greenland/scor0220.12d'\n",
    "# filepath = '/media/DataStore/breitsbw/data/rinex/greenland/thu20220.12d'\n",
    "# filepath = '/media/DataStore/breitsbw/data/rinex/greenland/thu30220.12d'"
   ]
  },
  {
   "cell_type": "markdown",
   "metadata": {},
   "source": [
    "The source code for the `crx2rnx` and `rnx2crx` executables were obtained from: ftp://ftp.geodesia.ign.es/utilidades/compresores/\n",
    "\n",
    "Run with \n",
    "\n",
    "    crx2rnx filename.nnd"
   ]
  },
  {
   "cell_type": "code",
   "execution_count": 2,
   "metadata": {
    "collapsed": false
   },
   "outputs": [
    {
     "name": "stdout",
     "output_type": "stream",
     "text": [
      "Usage: crx2rnx [file] [-] [-f] [-s] [-h]\r\n",
      "    stdin and stdout are used if input file name is not given.\r\n",
      "    -  : output to stdout\r\n",
      "    -f : force overwrite of output file\r\n",
      "    -s : skip strange epochs (default:stop with error)\r\n",
      "           This option may be used for salvaging usable data when middle of\r\n",
      "           the Compact RINEX file is missing. The data after the missing part,\r\n",
      "           are, however, useless until the compression operation of all data\r\n",
      "           are initialized at some epoch. Combination with use of -e option\r\n",
      "           of RNX2CRX (ver.4.0 or after) may be effective.\r\n",
      "           Caution : It is assumed that no change in # of data types\r\n",
      "                     happens in the lost part of the data.\r\n",
      "    -h : display help message\r\n",
      "\r\n",
      "    exit code = 0 (success)\r\n",
      "              = 1 (error)\r\n",
      "              = 2 (warning)\r\n",
      "    [version : ver.4.0.4]\r\n"
     ]
    }
   ],
   "source": [
    "!crx2rnx -h"
   ]
  },
  {
   "cell_type": "code",
   "execution_count": 3,
   "metadata": {
    "collapsed": false
   },
   "outputs": [],
   "source": [
    "!crx2rnx -f {filepath}"
   ]
  },
  {
   "cell_type": "code",
   "execution_count": 23,
   "metadata": {
    "collapsed": false
   },
   "outputs": [
    {
     "name": "stdout",
     "output_type": "stream",
     "text": [
      "/media/DataStore/breitsbw/data/rinex/greenland/thu30220.12o\n"
     ]
    }
   ],
   "source": [
    "new_filepath = filepath[:-1] + 'o'\n",
    "print(new_filepath)"
   ]
  },
  {
   "cell_type": "markdown",
   "metadata": {},
   "source": [
    "We can test that the new file is valid by trying to parse it with GPSTK."
   ]
  },
  {
   "cell_type": "code",
   "execution_count": 24,
   "metadata": {
    "collapsed": true
   },
   "outputs": [],
   "source": [
    "import gpstk"
   ]
  },
  {
   "cell_type": "code",
   "execution_count": 25,
   "metadata": {
    "collapsed": false
   },
   "outputs": [
    {
     "name": "stdout",
     "output_type": "stream",
     "text": [
      "There are 86400 records\n"
     ]
    }
   ],
   "source": [
    "header, reader = gpstk.readRinexObs(new_filepath)\n",
    "N = 0\n",
    "for record in reader:\n",
    "    N += 1\n",
    "print('There are {0} records'.format(N))"
   ]
  },
  {
   "cell_type": "code",
   "execution_count": null,
   "metadata": {
    "collapsed": true
   },
   "outputs": [],
   "source": []
  }
 ],
 "metadata": {
  "kernelspec": {
   "display_name": "Python 2 (System)",
   "language": "python",
   "name": "system_python2"
  },
  "language_info": {
   "codemirror_mode": {
    "name": "ipython",
    "version": 2
   },
   "file_extension": ".py",
   "mimetype": "text/x-python",
   "name": "python",
   "nbconvert_exporter": "python",
   "pygments_lexer": "ipython2",
   "version": "2.7.6"
  }
 },
 "nbformat": 4,
 "nbformat_minor": 0
}
