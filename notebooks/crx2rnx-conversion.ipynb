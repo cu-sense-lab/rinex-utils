{
 "cells": [
  {
   "cell_type": "code",
   "execution_count": null,
   "metadata": {},
   "outputs": [],
   "source": [
    "# filepath = '/media/DataStore/breitsbw/data/rinex/greenland/qaq10220.12d'\n",
    "filepath = '/media/DataStore/breitsbw/data/rinex/greenland/scor0220.12d'\n",
    "# filepath = '/media/DataStore/breitsbw/data/rinex/greenland/thu20220.12d'\n",
    "# filepath = '/media/DataStore/breitsbw/data/rinex/greenland/thu30220.12d'"
   ]
  },
  {
   "cell_type": "markdown",
   "metadata": {},
   "source": [
    "The source code for the `crx2rnx` and `rnx2crx` executables were obtained from: ftp://ftp.geodesia.ign.es/utilidades/compresores/\n",
    "\n",
    "Run with \n",
    "\n",
    "    crx2rnx filename.nnd"
   ]
  },
  {
   "cell_type": "code",
   "execution_count": null,
   "metadata": {},
   "outputs": [],
   "source": [
    "!crx2rnx -h"
   ]
  },
  {
   "cell_type": "code",
   "execution_count": null,
   "metadata": {},
   "outputs": [],
   "source": [
    "!crx2rnx -f {filepath}"
   ]
  },
  {
   "cell_type": "code",
   "execution_count": null,
   "metadata": {},
   "outputs": [],
   "source": [
    "new_filepath = filepath[:-1] + 'o'\n",
    "print(new_filepath)"
   ]
  },
  {
   "cell_type": "markdown",
   "metadata": {},
   "source": [
    "We can test that the new file is valid by trying to parse it with GPSTK."
   ]
  },
  {
   "cell_type": "code",
   "execution_count": null,
   "metadata": {},
   "outputs": [],
   "source": [
    "import gpstk"
   ]
  },
  {
   "cell_type": "code",
   "execution_count": null,
   "metadata": {},
   "outputs": [],
   "source": [
    "header, reader = gpstk.readRinexObs(new_filepath)\n",
    "N = 0\n",
    "for record in reader:\n",
    "    N += 1\n",
    "print('There are {0} records'.format(N))"
   ]
  },
  {
   "cell_type": "code",
   "execution_count": null,
   "metadata": {},
   "outputs": [],
   "source": []
  }
 ],
 "metadata": {
  "kernelspec": {
   "display_name": "Python 2 (System)",
   "language": "python",
   "name": "system_python2"
  },
  "language_info": {
   "codemirror_mode": {
    "name": "ipython",
    "version": 2
   },
   "file_extension": ".py",
   "mimetype": "text/x-python",
   "name": "python",
   "nbconvert_exporter": "python",
   "pygments_lexer": "ipython2",
   "version": "2.7.6"
  }
 },
 "nbformat": 4,
 "nbformat_minor": 0
}
