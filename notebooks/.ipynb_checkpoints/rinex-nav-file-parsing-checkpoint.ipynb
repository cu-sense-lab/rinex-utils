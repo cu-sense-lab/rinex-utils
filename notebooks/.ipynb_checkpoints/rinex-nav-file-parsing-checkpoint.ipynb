{
 "cells": [
  {
   "cell_type": "code",
   "execution_count": null,
   "metadata": {},
   "outputs": [],
   "source": [
    "from igsutils import IGSDownloader, IGSFileManager\n",
    "from datetime import datetime, timezone\n",
    "from types import SimpleNamespace\n",
    "import re"
   ]
  },
  {
   "cell_type": "code",
   "execution_count": null,
   "metadata": {},
   "outputs": [],
   "source": [
    "file_manager = IGSFileManager('/media/share/brianbw/data/igs/',\n",
    "                              '/gnss/data/daily/{yyyy}/{ddd}/{yy}n/', 'arev{ddd}0.{yy}n.Z')\n",
    "downloader = IGSDownloader(file_manager, ftp_host='cddis.gsfc.nasa.gov', overwrite=False)"
   ]
  },
  {
   "cell_type": "code",
   "execution_count": null,
   "metadata": {},
   "outputs": [],
   "source": [
    "dt = datetime(2013, 2, 22, tzinfo=timezone.utc)\n",
    "filepath = downloader.fetch(dt)"
   ]
  },
  {
   "cell_type": "code",
   "execution_count": null,
   "metadata": {},
   "outputs": [],
   "source": [
    "!du -hs {filepath}"
   ]
  },
  {
   "cell_type": "code",
   "execution_count": null,
   "metadata": {},
   "outputs": [],
   "source": [
    "!head -n 25 {filepath}"
   ]
  },
  {
   "cell_type": "code",
   "execution_count": null,
   "metadata": {},
   "outputs": [],
   "source": [
    "'([+-]?\\s?\\d\\.\\d{12}D[+-]?\\d{2})' * 3"
   ]
  },
  {
   "cell_type": "code",
   "execution_count": null,
   "metadata": {},
   "outputs": [],
   "source": [
    "# pattern = '(\\s?\\d+)\\s(\\s?\\d+)\\s(\\s?\\d+)\\s(\\s?\\d+)\\s(\\s?\\d+)\\s(\\s?\\d+)\\s(\\s?\\d+\\.\\d)([+-\\s]?\\d\\.\\d{12}D[+-]?\\d{2})'\n",
    "epoch_pattern = '(\\s?\\d+)\\s(\\s?\\d+)\\s(\\s?\\d+)\\s(\\s?\\d+)\\s(\\s?\\d+)\\s(\\s?\\d+)\\s(\\s?\\d+\\.\\d)'\n",
    "number_pattern = '\\n?\\s*([+-]?\\d+\\.\\d{12}D[+-]?\\d{2})'\n",
    "pattern = epoch_pattern + 29 * number_pattern"
   ]
  },
  {
   "cell_type": "code",
   "execution_count": null,
   "metadata": {},
   "outputs": [],
   "source": [
    "def parse_rinex_nav(filepath, century=2000):\n",
    "    '''\n",
    "    Given filepath to RINEX Navigation file, parses navigation into ephemeris.\n",
    "    Returns dictionary {prn: [SimpleNamespace]} of ephemeris objects\n",
    "    \n",
    "    # (2016/05/30) function requiring ephemeris paramters need the following names:\n",
    "    # e - eccentricity\n",
    "    # t_oe - time of ephemeris\n",
    "    # i_0 - inclination at reference time (rad)\n",
    "    # a - semi-major axis (m); usually given as SQRT\n",
    "    # omega_dot - rate of right ascension (rad/s)\n",
    "    # omega_0 - right ascension at week (rad)\n",
    "    # omega - argument of perigee\n",
    "    # M_0 - mean anomaly of reference time (rad)\n",
    "    # week - GPS week number\n",
    "    # delta_n - mean motion difference (rad/s)\n",
    "    # i_dot - rate of inclination angle (rad/s)\n",
    "    # c_us - argument of latitude (amplitude of cosine, radians)\n",
    "    # c_rs - orbit radius (amplitude of sine, meters)\n",
    "    # c_is - inclination (amplitude of sine, meters)\n",
    "    # c_uc - argument of latitude (amplitude of cosine, radians)\n",
    "    # c_rc - orbit radius (amplitude of cosine, meters)\n",
    "    # c_ic - inclination (amplitude of cosine, meters)century = 2000\n",
    "    '''\n",
    "    epoch_pattern = '(\\s?\\d+)\\s(\\s?\\d+)\\s(\\s?\\d+)\\s(\\s?\\d+)\\s(\\s?\\d+)\\s(\\s?\\d+)\\s(\\s?\\d+\\.\\d)'\n",
    "    number_pattern = '\\n?\\s*([+-]?\\d+\\.\\d{12}D[+-]?\\d{2})'\n",
    "    pattern = epoch_pattern + 29 * number_pattern\n",
    "    data = {}\n",
    "    with open(filepath, 'r') as f:\n",
    "        matches = re.findall(pattern, f.read())\n",
    "        for m in matches:\n",
    "            prn, yy, month, day, hour, minute = (int(i) for i in m[:6])\n",
    "            second, a0, a1, a2, \\\n",
    "                iode1, c_rs, delta_n, m_0, \\\n",
    "                c_uc, e, c_us, sqrt_a, \\\n",
    "                t_oe, c_ic, omega_0, c_is, \\\n",
    "                i_0, c_rc, omega, omega_dot, \\\n",
    "                i_dot, l2_codes, week, l2p_data, \\\n",
    "                accuracy, health, tgd, iodc, \\\n",
    "                transmit_time, fit_interval = (float(s.replace('D', 'E')) for s in m[6:36])\n",
    "            year = century + yy\n",
    "            epoch = datetime(year, month, day, hour, minute, int(second), int(1e6 * (second % 1)), tzinfo=timezone.utc)\n",
    "            eph = SimpleNamespace(\n",
    "                epoch=epoch,\n",
    "                iode1=iode1, c_rs=c_rs, delta_n=delta_n, m_0=m_0,\n",
    "                c_uc=c_uc, e=e, c_us=c_us, sqrt_a=sqrt_a,\n",
    "                t_oe=t_oe, c_ic=c_ic, omega_0=omega_0, c_is=c_is,\n",
    "                i_0=i_0, c_rc=c_rc, omega=omega, omega_dot=omega_dot,  # TODO check if orbit solutions correct omega\n",
    "                i_dot=i_dot, l2_codes=l2_codes, week=week, l2p_data=l2p_data,\n",
    "                accuracy=accuracy, health=health, tgd=tgd, iodc=iodc,\n",
    "                transmit_time=transmit_time, fit_interval=fit_interval\n",
    "            )\n",
    "            if prn not in data.keys():\n",
    "                data[prn] = []\n",
    "            data[prn].append(eph)\n",
    "    return data"
   ]
  },
  {
   "cell_type": "code",
   "execution_count": null,
   "metadata": {},
   "outputs": [],
   "source": [
    "data = parse_rinex_nav(filepath)"
   ]
  },
  {
   "cell_type": "code",
   "execution_count": null,
   "metadata": {},
   "outputs": [],
   "source": [
    "float(m[7].replace('D','E'))"
   ]
  },
  {
   "cell_type": "markdown",
   "metadata": {},
   "source": [
    "See [here](https://igscb.jpl.nasa.gov/igscb/data/format/rinex210.txt) for RINEX NAV file format (2/3 of the way down).\n",
    "```\n",
    " +----------------------------------------------------------------------------+\n",
    " |                                  TABLE A4                                  |\n",
    " |           GPS NAVIGATION MESSAGE FILE - DATA RECORD DESCRIPTION            |\n",
    " +--------------------+------------------------------------------+------------+\n",
    " |    OBS. RECORD     | DESCRIPTION                              |   FORMAT   |\n",
    " +--------------------+------------------------------------------+------------+\n",
    " |PRN / EPOCH / SV CLK| - Satellite PRN number                   |     I2,    |\n",
    " |                    | - Epoch: Toc - Time of Clock             |            |\n",
    " |                    |          year (2 digits, padded with 0   |            |\n",
    " |                    |                if necessary)             |  1X,I2.2,  |\n",
    " |                    |          month                           |   1X,I2,   |\n",
    " |                    |          day                             |   1X,I2,   |\n",
    " |                    |          hour                            |   1X,I2,   |\n",
    " |                    |          minute                          |   1X,I2,   |\n",
    " |                    |          second                          |    F5.1,   |\n",
    " |                    | - SV clock bias       (seconds)          |  3D19.12   |\n",
    " |                    | - SV clock drift      (sec/sec)          |            |\n",
    " |                    | - SV clock drift rate (sec/sec2)         |     *)     |\n",
    " +--------------------+------------------------------------------+------------+\n",
    " | BROADCAST ORBIT - 1| - IODE Issue of Data, Ephemeris          | 3X,4D19.12 |\n",
    " |                    | - Crs                 (meters)           |            |\n",
    " |                    | - Delta n             (radians/sec)      |            |\n",
    " |                    | - M0                  (radians)          |            |\n",
    " +--------------------+------------------------------------------+------------+\n",
    " | BROADCAST ORBIT - 2| - Cuc                 (radians)          | 3X,4D19.12 |\n",
    " |                    | - e Eccentricity                         |            |\n",
    " |                    | - Cus                 (radians)          |            |\n",
    " |                    | - sqrt(A)             (sqrt(m))          |            |\n",
    " +--------------------+------------------------------------------+------------+\n",
    " | BROADCAST ORBIT - 3| - Toe Time of Ephemeris                  | 3X,4D19.12 |\n",
    " |                    |                       (sec of GPS week)  |            |\n",
    " |                    | - Cic                 (radians)          |            |\n",
    " |                    | - OMEGA               (radians)          |            |\n",
    " |                    | - CIS                 (radians)          |            |\n",
    " +--------------------+------------------------------------------+------------+\n",
    " | BROADCAST ORBIT - 4| - i0                  (radians)          | 3X,4D19.12 |\n",
    " |                    | - Crc                 (meters)           |            |\n",
    " |                    | - omega               (radians)          |            |\n",
    " |                    | - OMEGA DOT           (radians/sec)      |            |\n",
    " +--------------------+------------------------------------------+------------+\n",
    " | BROADCAST ORBIT - 5| - IDOT                (radians/sec)      | 3X,4D19.12 |\n",
    " |                    | - Codes on L2 channel                    |            |\n",
    " |                    | - GPS Week # (to go with TOE)            |            |\n",
    " |                    |   Continuous number, not mod(1024)!      |            |\n",
    " |                    | - L2 P data flag                         |            |\n",
    " +--------------------+------------------------------------------+------------+\n",
    " | BROADCAST ORBIT - 6| - SV accuracy         (meters)           | 3X,4D19.12 |\n",
    " |                    | - SV health        (bits 17-22 w 3 sf 1) |            |\n",
    " |                    | - TGD                 (seconds)          |            |\n",
    " |                    | - IODC Issue of Data, Clock              |            |\n",
    " +--------------------+------------------------------------------+------------+\n",
    " | BROADCAST ORBIT - 7| - Transmission time of message       **) | 3X,4D19.12 |\n",
    " |                    |         (sec of GPS week, derived e.g.   |            |\n",
    " |                    |    from Z-count in Hand Over Word (HOW)  |            |\n",
    " |                    | - Fit interval        (hours)            |            |\n",
    " |                    |         (see ICD-GPS-200, 20.3.4.4)      |            |\n",
    " |                    |   Zero if not known                      |            |\n",
    " |                    | - spare                                  |            |\n",
    " |                    | - spare                                  |            |\n",
    " +--------------------+------------------------------------------+------------+\n",
    "```"
   ]
  },
  {
   "cell_type": "code",
   "execution_count": null,
   "metadata": {},
   "outputs": [],
   "source": [
    "print(len(matches))"
   ]
  },
  {
   "cell_type": "code",
   "execution_count": null,
   "metadata": {},
   "outputs": [],
   "source": []
  }
 ],
 "metadata": {
  "kernelspec": {
   "display_name": "Python 3",
   "language": "python",
   "name": "python3"
  },
  "language_info": {
   "codemirror_mode": {
    "name": "ipython",
    "version": 3
   },
   "file_extension": ".py",
   "mimetype": "text/x-python",
   "name": "python",
   "nbconvert_exporter": "python",
   "pygments_lexer": "ipython3",
   "version": "3.4.5"
  }
 },
 "nbformat": 4,
 "nbformat_minor": 0
}
