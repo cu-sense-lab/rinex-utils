{
 "cells": [
  {
   "cell_type": "code",
   "execution_count": 1,
   "metadata": {},
   "outputs": [
    {
     "name": "stdout",
     "output_type": "stream",
     "text": [
      "there are 27 leap second epochs\n"
     ]
    }
   ],
   "source": [
    "from igsutils import IGSDownloader, IGSFileManager\n",
    "from datetime import datetime, timezone\n",
    "from types import SimpleNamespace\n",
    "import re"
   ]
  },
  {
   "cell_type": "code",
   "execution_count": 2,
   "metadata": {
    "collapsed": true
   },
   "outputs": [],
   "source": [
    "file_manager = IGSFileManager('/media/share/brianbw/data/igs/',\n",
    "                              '/gnss/data/daily/{yyyy}/{ddd}/{yy}n/', 'arev{ddd}0.{yy}n.Z')\n",
    "downloader = IGSDownloader(file_manager, ftp_host='cddis.gsfc.nasa.gov', overwrite=False)"
   ]
  },
  {
   "cell_type": "code",
   "execution_count": 3,
   "metadata": {
    "collapsed": true
   },
   "outputs": [],
   "source": [
    "dt = datetime(2013, 2, 22, tzinfo=timezone.utc)\n",
    "filepath = downloader.fetch(dt)"
   ]
  },
  {
   "cell_type": "code",
   "execution_count": 4,
   "metadata": {},
   "outputs": [
    {
     "name": "stdout",
     "output_type": "stream",
     "text": [
      "120K\t/media/share/brianbw/data/igs/gnss/data/daily/2013/053/13n/arev0530.13n\r\n"
     ]
    }
   ],
   "source": [
    "!du -hs {filepath}"
   ]
  },
  {
   "cell_type": "code",
   "execution_count": 5,
   "metadata": {},
   "outputs": [
    {
     "name": "stdout",
     "output_type": "stream",
     "text": [
      "     2.10           N: GPS NAV DATA                         RINEX VERSION / TYPE\r\n",
      "teqc  2012Jun6      gpsops              20130223 00:10:08UTCPGM / RUN BY / DATE\r\n",
      "    16                                                      LEAP SECONDS\r\n",
      "Linux 2.4.21-27.ELsmp|Opteron|gcc -static|Linux x86_64|=+   COMMENT\r\n",
      "    1.6764D-08  0.0000D+00 -1.1921D-07  5.9605D-08          ION ALPHA\r\n",
      "    1.2288D+05 -3.2768D+04 -1.9661D+05 -6.5536D+04          ION BETA\r\n",
      "    9.313225746155D-10 8.881784197001D-15   589824     1728 DELTA-UTC: A0,A1,T,W\r\n",
      "AREV                                    MARKER NAME         COMMENT\r\n",
      "42202M005                               MARKER NUMBER       COMMENT\r\n",
      "1942826.192 -5804070.331 -1796894.267                       COMMENT\r\n",
      "                                                            COMMENT\r\n",
      "This data is provided as a public service by NASA/JPL.      COMMENT\r\n",
      "No warranty is expressed or implied regarding suitability   COMMENT\r\n",
      "for use.  For further information, contact:                 COMMENT\r\n",
      "Dave Stowers, NASA/JPL m/s 238-600                          COMMENT\r\n",
      "4800 Oak Grove Drive, Pasadena CA 91109 USA                 COMMENT\r\n",
      "                                                            END OF HEADER\r\n",
      " 1 13  2 22  0  0  0.0 2.217013388872D-06 2.728484105319D-12 0.000000000000D+00\r\n",
      "    6.600000000000D+01 1.234375000000D+01 4.411255175056D-09-2.837213001150D+00\r\n",
      "    7.003545761108D-07 1.613943721168D-03 9.272247552872D-06 5.153703411102D+03\r\n",
      "    4.320000000000D+05 9.313225746155D-09 2.877686126378D-01 1.303851604462D-08\r\n",
      "    9.605911643863D-01 2.014375000000D+02 4.001705320232D-01-7.875685196758D-09\r\n",
      "    4.928776731906D-10 1.000000000000D+00 1.728000000000D+03 0.000000000000D+00\r\n",
      "    2.000000000000D+00 0.000000000000D+00 8.381903171539D-09 6.600000000000D+01\r\n",
      "    4.289100000000D+05 4.000000000000D+00\r\n"
     ]
    }
   ],
   "source": [
    "!head -n 25 {filepath}"
   ]
  },
  {
   "cell_type": "code",
   "execution_count": 6,
   "metadata": {},
   "outputs": [
    {
     "data": {
      "text/plain": [
       "'([+-]?\\\\s?\\\\d\\\\.\\\\d{12}D[+-]?\\\\d{2})([+-]?\\\\s?\\\\d\\\\.\\\\d{12}D[+-]?\\\\d{2})([+-]?\\\\s?\\\\d\\\\.\\\\d{12}D[+-]?\\\\d{2})'"
      ]
     },
     "execution_count": 6,
     "metadata": {},
     "output_type": "execute_result"
    }
   ],
   "source": [
    "'([+-]?\\s?\\d\\.\\d{12}D[+-]?\\d{2})' * 3"
   ]
  },
  {
   "cell_type": "code",
   "execution_count": 7,
   "metadata": {
    "collapsed": true
   },
   "outputs": [],
   "source": [
    "# pattern = '(\\s?\\d+)\\s(\\s?\\d+)\\s(\\s?\\d+)\\s(\\s?\\d+)\\s(\\s?\\d+)\\s(\\s?\\d+)\\s(\\s?\\d+\\.\\d)([+-\\s]?\\d\\.\\d{12}D[+-]?\\d{2})'\n",
    "epoch_pattern = '(\\s?\\d+)\\s(\\s?\\d+)\\s(\\s?\\d+)\\s(\\s?\\d+)\\s(\\s?\\d+)\\s(\\s?\\d+)\\s(\\s?\\d+\\.\\d)'\n",
    "number_pattern = '\\n?\\s*([+-]?\\d+\\.\\d{12}D[+-]?\\d{2})'\n",
    "pattern = epoch_pattern + 29 * number_pattern"
   ]
  },
  {
   "cell_type": "code",
   "execution_count": 8,
   "metadata": {
    "collapsed": true
   },
   "outputs": [],
   "source": [
    "def parse_rinex_nav(filepath, century=2000):\n",
    "    '''\n",
    "    Given filepath to RINEX Navigation file, parses navigation into ephemeris.\n",
    "    Returns dictionary {prn: [SimpleNamespace]} of ephemeris objects\n",
    "    \n",
    "    # (2016/05/30) function requiring ephemeris paramters need the following names:\n",
    "    # e - eccentricity\n",
    "    # t_oe - time of ephemeris\n",
    "    # i_0 - inclination at reference time (rad)\n",
    "    # a - semi-major axis (m); usually given as SQRT\n",
    "    # omega_dot - rate of right ascension (rad/s)\n",
    "    # omega_0 - right ascension at week (rad)\n",
    "    # omega - argument of perigee\n",
    "    # M_0 - mean anomaly of reference time (rad)\n",
    "    # week - GPS week number\n",
    "    # delta_n - mean motion difference (rad/s)\n",
    "    # i_dot - rate of inclination angle (rad/s)\n",
    "    # c_us - argument of latitude (amplitude of cosine, radians)\n",
    "    # c_rs - orbit radius (amplitude of sine, meters)\n",
    "    # c_is - inclination (amplitude of sine, meters)\n",
    "    # c_uc - argument of latitude (amplitude of cosine, radians)\n",
    "    # c_rc - orbit radius (amplitude of cosine, meters)\n",
    "    # c_ic - inclination (amplitude of cosine, meters)century = 2000\n",
    "    '''\n",
    "    epoch_pattern = '(\\s?\\d+)\\s(\\s?\\d+)\\s(\\s?\\d+)\\s(\\s?\\d+)\\s(\\s?\\d+)\\s(\\s?\\d+)\\s(\\s?\\d+\\.\\d)'\n",
    "    number_pattern = '\\n?\\s*([+-]?\\d+\\.\\d{12}D[+-]?\\d{2})'\n",
    "    pattern = epoch_pattern + 29 * number_pattern\n",
    "    data = {}\n",
    "    with open(filepath, 'r') as f:\n",
    "        matches = re.findall(pattern, f.read())\n",
    "        for m in matches:\n",
    "            prn, yy, month, day, hour, minute = (int(i) for i in m[:6])\n",
    "            second, a0, a1, a2, \\\n",
    "                iode1, c_rs, delta_n, m_0, \\\n",
    "                c_uc, e, c_us, sqrt_a, \\\n",
    "                t_oe, c_ic, omega_0, c_is, \\\n",
    "                i_0, c_rc, omega, omega_dot, \\\n",
    "                i_dot, l2_codes, week, l2p_data, \\\n",
    "                accuracy, health, tgd, iodc, \\\n",
    "                transmit_time, fit_interval = (float(s.replace('D', 'E')) for s in m[6:36])\n",
    "            year = century + yy\n",
    "            epoch = datetime(year, month, day, hour, minute, int(second), int(1e6 * (second % 1)), tzinfo=timezone.utc)\n",
    "            eph = SimpleNamespace(\n",
    "                epoch=epoch, a0=a0, a1=a1, a2=a2, iodc=iodc,\n",
    "                iode1=iode1, c_rs=c_rs, delta_n=delta_n, m_0=m_0,\n",
    "                c_uc=c_uc, e=e, c_us=c_us, sqrt_a=sqrt_a,\n",
    "                t_oe=t_oe, c_ic=c_ic, omega_0=omega_0, c_is=c_is,\n",
    "                i_0=i_0, c_rc=c_rc, omega=omega, omega_dot=omega_dot,  # TODO check if orbit solutions correct omega\n",
    "                i_dot=i_dot, l2_codes=l2_codes, week=week, l2p_data=l2p_data,\n",
    "                accuracy=accuracy, health=health, tgd=tgd, iodc=iodc,\n",
    "                transmit_time=transmit_time, fit_interval=fit_interval\n",
    "            )\n",
    "            if prn not in data.keys():\n",
    "                data[prn] = []\n",
    "            data[prn].append(eph)\n",
    "    return data"
   ]
  },
  {
   "cell_type": "code",
   "execution_count": 9,
   "metadata": {
    "collapsed": true
   },
   "outputs": [],
   "source": [
    "data = parse_rinex_nav(filepath)"
   ]
  },
  {
   "cell_type": "code",
   "execution_count": 10,
   "metadata": {},
   "outputs": [
    {
     "ename": "NameError",
     "evalue": "name 'm' is not defined",
     "output_type": "error",
     "traceback": [
      "\u001b[1;31m---------------------------------------------------------------------------\u001b[0m",
      "\u001b[1;31mNameError\u001b[0m                                 Traceback (most recent call last)",
      "\u001b[1;32m<ipython-input-10-42e6b66eb4a7>\u001b[0m in \u001b[0;36m<module>\u001b[1;34m()\u001b[0m\n\u001b[1;32m----> 1\u001b[1;33m \u001b[0mfloat\u001b[0m\u001b[1;33m(\u001b[0m\u001b[0mm\u001b[0m\u001b[1;33m[\u001b[0m\u001b[1;36m7\u001b[0m\u001b[1;33m]\u001b[0m\u001b[1;33m.\u001b[0m\u001b[0mreplace\u001b[0m\u001b[1;33m(\u001b[0m\u001b[1;34m'D'\u001b[0m\u001b[1;33m,\u001b[0m\u001b[1;34m'E'\u001b[0m\u001b[1;33m)\u001b[0m\u001b[1;33m)\u001b[0m\u001b[1;33m\u001b[0m\u001b[0m\n\u001b[0m",
      "\u001b[1;31mNameError\u001b[0m: name 'm' is not defined"
     ]
    }
   ],
   "source": [
    "float(m[7].replace('D','E'))"
   ]
  },
  {
   "cell_type": "markdown",
   "metadata": {},
   "source": [
    "See [here](https://igscb.jpl.nasa.gov/igscb/data/format/rinex210.txt) for RINEX NAV file format (2/3 of the way down).\n",
    "```\n",
    " +----------------------------------------------------------------------------+\n",
    " |                                  TABLE A4                                  |\n",
    " |           GPS NAVIGATION MESSAGE FILE - DATA RECORD DESCRIPTION            |\n",
    " +--------------------+------------------------------------------+------------+\n",
    " |    OBS. RECORD     | DESCRIPTION                              |   FORMAT   |\n",
    " +--------------------+------------------------------------------+------------+\n",
    " |PRN / EPOCH / SV CLK| - Satellite PRN number                   |     I2,    |\n",
    " |                    | - Epoch: Toc - Time of Clock             |            |\n",
    " |                    |          year (2 digits, padded with 0   |            |\n",
    " |                    |                if necessary)             |  1X,I2.2,  |\n",
    " |                    |          month                           |   1X,I2,   |\n",
    " |                    |          day                             |   1X,I2,   |\n",
    " |                    |          hour                            |   1X,I2,   |\n",
    " |                    |          minute                          |   1X,I2,   |\n",
    " |                    |          second                          |    F5.1,   |\n",
    " |                    | - SV clock bias       (seconds)          |  3D19.12   |\n",
    " |                    | - SV clock drift      (sec/sec)          |            |\n",
    " |                    | - SV clock drift rate (sec/sec2)         |     *)     |\n",
    " +--------------------+------------------------------------------+------------+\n",
    " | BROADCAST ORBIT - 1| - IODE Issue of Data, Ephemeris          | 3X,4D19.12 |\n",
    " |                    | - Crs                 (meters)           |            |\n",
    " |                    | - Delta n             (radians/sec)      |            |\n",
    " |                    | - M0                  (radians)          |            |\n",
    " +--------------------+------------------------------------------+------------+\n",
    " | BROADCAST ORBIT - 2| - Cuc                 (radians)          | 3X,4D19.12 |\n",
    " |                    | - e Eccentricity                         |            |\n",
    " |                    | - Cus                 (radians)          |            |\n",
    " |                    | - sqrt(A)             (sqrt(m))          |            |\n",
    " +--------------------+------------------------------------------+------------+\n",
    " | BROADCAST ORBIT - 3| - Toe Time of Ephemeris                  | 3X,4D19.12 |\n",
    " |                    |                       (sec of GPS week)  |            |\n",
    " |                    | - Cic                 (radians)          |            |\n",
    " |                    | - OMEGA               (radians)          |            |\n",
    " |                    | - CIS                 (radians)          |            |\n",
    " +--------------------+------------------------------------------+------------+\n",
    " | BROADCAST ORBIT - 4| - i0                  (radians)          | 3X,4D19.12 |\n",
    " |                    | - Crc                 (meters)           |            |\n",
    " |                    | - omega               (radians)          |            |\n",
    " |                    | - OMEGA DOT           (radians/sec)      |            |\n",
    " +--------------------+------------------------------------------+------------+\n",
    " | BROADCAST ORBIT - 5| - IDOT                (radians/sec)      | 3X,4D19.12 |\n",
    " |                    | - Codes on L2 channel                    |            |\n",
    " |                    | - GPS Week # (to go with TOE)            |            |\n",
    " |                    |   Continuous number, not mod(1024)!      |            |\n",
    " |                    | - L2 P data flag                         |            |\n",
    " +--------------------+------------------------------------------+------------+\n",
    " | BROADCAST ORBIT - 6| - SV accuracy         (meters)           | 3X,4D19.12 |\n",
    " |                    | - SV health        (bits 17-22 w 3 sf 1) |            |\n",
    " |                    | - TGD                 (seconds)          |            |\n",
    " |                    | - IODC Issue of Data, Clock              |            |\n",
    " +--------------------+------------------------------------------+------------+\n",
    " | BROADCAST ORBIT - 7| - Transmission time of message       **) | 3X,4D19.12 |\n",
    " |                    |         (sec of GPS week, derived e.g.   |            |\n",
    " |                    |    from Z-count in Hand Over Word (HOW)  |            |\n",
    " |                    | - Fit interval        (hours)            |            |\n",
    " |                    |         (see ICD-GPS-200, 20.3.4.4)      |            |\n",
    " |                    |   Zero if not known                      |            |\n",
    " |                    | - spare                                  |            |\n",
    " |                    | - spare                                  |            |\n",
    " +--------------------+------------------------------------------+------------+\n",
    "```"
   ]
  },
  {
   "cell_type": "code",
   "execution_count": null,
   "metadata": {
    "collapsed": true
   },
   "outputs": [],
   "source": [
    "print(len(matches))"
   ]
  },
  {
   "cell_type": "code",
   "execution_count": null,
   "metadata": {
    "collapsed": true
   },
   "outputs": [],
   "source": []
  }
 ],
 "metadata": {
  "kernelspec": {
   "display_name": "Python 3",
   "language": "python",
   "name": "python3"
  },
  "language_info": {
   "codemirror_mode": {
    "name": "ipython",
    "version": 3
   },
   "file_extension": ".py",
   "mimetype": "text/x-python",
   "name": "python",
   "nbconvert_exporter": "python",
   "pygments_lexer": "ipython3",
   "version": "3.6.1"
  }
 },
 "nbformat": 4,
 "nbformat_minor": 1
}
