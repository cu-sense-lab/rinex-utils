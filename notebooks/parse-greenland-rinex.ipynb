{
 "cells": [
  {
   "cell_type": "code",
   "execution_count": null,
   "metadata": {},
   "outputs": [],
   "source": []
  },
  {
   "cell_type": "code",
   "execution_count": null,
   "metadata": {},
   "outputs": [],
   "source": [
    "filepath = '/media/DataStore/breitsbw/data/rinex/greenland/qaq10220.12d'"
   ]
  },
  {
   "cell_type": "code",
   "execution_count": null,
   "metadata": {},
   "outputs": [],
   "source": [
    "!head -n50 {filepath}"
   ]
  },
  {
   "cell_type": "code",
   "execution_count": null,
   "metadata": {},
   "outputs": [],
   "source": [
    "len('1.0                 COMPACT RINEX FORMAT                    ')"
   ]
  },
  {
   "cell_type": "code",
   "execution_count": null,
   "metadata": {},
   "outputs": [],
   "source": [
    "def read_rinex_obs_header__2_11(f):\n",
    "    '''\n",
    "    f -- file handle object\n",
    "    '''\n",
    "    header = {}\n",
    "    for line in f.readlines():\n",
    "        header_id = line[60:].strip()\n",
    "        if header_id == 'COMMENT':\n",
    "            continue\n",
    "        if header_id == '# / TYPES OF OBSERV':\n",
    "            elements = line[:60].split()\n",
    "            header['obs'] = {}\n",
    "            header['obs']['number'] = elements[0]\n",
    "            header['obs']['types'] = elements[1:]\n",
    "        if header_id == 'END OF HEADER':\n",
    "            break\n",
    "    return header"
   ]
  },
  {
   "cell_type": "code",
   "execution_count": null,
   "metadata": {},
   "outputs": [],
   "source": [
    "with open(filepath, 'r') as f:\n",
    "    header = read_rinex_obs_header__2_11(f)"
   ]
  },
  {
   "cell_type": "code",
   "execution_count": null,
   "metadata": {},
   "outputs": [],
   "source": []
  }
 ],
 "metadata": {
  "kernelspec": {
   "display_name": "Python 3",
   "language": "python",
   "name": "python3"
  },
  "language_info": {
   "codemirror_mode": {
    "name": "ipython",
    "version": 3
   },
   "file_extension": ".py",
   "mimetype": "text/x-python",
   "name": "python",
   "nbconvert_exporter": "python",
   "pygments_lexer": "ipython3",
   "version": "3.4.5"
  }
 },
 "nbformat": 4,
 "nbformat_minor": 0
}
