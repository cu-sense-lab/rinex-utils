{
 "cells": [
  {
   "cell_type": "code",
   "execution_count": null,
   "metadata": {
    "collapsed": true
   },
   "outputs": [],
   "source": []
  },
  {
   "cell_type": "code",
   "execution_count": 1,
   "metadata": {
    "collapsed": true
   },
   "outputs": [],
   "source": [
    "filepath = '/media/DataStore/breitsbw/data/rinex/greenland/qaq10220.12d'"
   ]
  },
  {
   "cell_type": "code",
   "execution_count": 6,
   "metadata": {
    "collapsed": false
   },
   "outputs": [
    {
     "name": "stdout",
     "output_type": "stream",
     "text": [
      "1.0                 COMPACT RINEX FORMAT                    CRINEX VERS   / TYPE\r\n",
      "RNX2CRX ver.u.2.4.2                     23-Jan-12 00:05     CRINEX PROG / DATE\r\n",
      "     2.11           OBSERVATION DATA    G (GPS)             RINEX VERSION / TYPE\r\n",
      "teqc  2011Oct11                         20120123 00:02:25UTCPGM / RUN BY / DATE\r\n",
      "Linux 2.4.20-8|Pentium IV|gcc -static|Linux|486/DX+         COMMENT\r\n",
      "teqc  2011Oct11                         20120122 00:59:46UTCCOMMENT\r\n",
      "MSXP|IAx86-PII|bcc32 5.0|MSWin95->XP|486/DX+                COMMENT\r\n",
      "BIT 2 OF LLI FLAGS DATA COLLECTED UNDER A/S CONDITION       COMMENT\r\n",
      "QAQ1                                                        MARKER NAME\r\n",
      "43007M001                                                   MARKER NUMBER\r\n",
      "DNSC                DNSC                                    OBSERVER / AGENCY\r\n",
      "ZR20012301          ASHTECH UZ-12       CJ00                REC # / TYPE / VERS\r\n",
      "24206               ASH701945E_M    SCIS                    ANT # / TYPE\r\n",
      "  2170946.3592 -2251834.2961  5539993.9839                  APPROX POSITION XYZ\r\n",
      "        0.1206        0.0000        0.0000                  ANTENNA: DELTA H/E/N\r\n",
      "     1     1                                                WAVELENGTH FACT L1/2\r\n",
      "     9    C1    L1    L2    P1    P2    D1    D2    S1    S2# / TYPES OF OBSERV\r\n",
      " SNR is mapped to RINEX snr flag value [0-9]                COMMENT\r\n",
      "  L1 & L2: min(max(int(snr_dBHz/6), 0), 9)                  COMMENT\r\n",
      "pseudorange smoothing corrections not applied               COMMENT\r\n",
      "  2012     1    22     0     0    0.0000000     GPS         TIME OF FIRST OBS\r\n",
      "                                                            END OF HEADER\r\n",
      "&12  1 22  0  0  0.0000000  0 11G22G25G32G31G14G17G20G12G09G01G27\r\n",
      "\r\n",
      "3&23007928279 3&-4067172519 3&-3151482721 3&23007927361 3&23007927636 3&-3063331 3&-2387024 3&48000 3&43000 4 48474 4 4 4 4 4\r\n",
      "3&21183332617 3&-23307202913 3&-18106863237 3&21183331592 3&21183336512 3&2025127 3&1578022 3&55000 3&50000 4 49484 4 4 4 4 4\r\n",
      "3&23566034047 3&-11596384893 3&-8983587797 3&23566032932 3&23566037162 3&2097607 3&1634495 3&47000 3&42000 4 47474 4 4 4 4 4\r\n",
      "3&23260282919 3&-7820628600 3&-6080242146 3&23260282881 3&23260284560 3&3239801 3&2524523 3&48000 3&43000 4 48474 4 4 4 4 4\r\n",
      "3&20485449947 3&-23705342233 3&-18429980180 3&20485448918 3&20485451338 3&616255 3&480201 3&54000 3&50000 4 49484 4 4 4 4 4\r\n",
      "3&24906919656 3&-1736397091 3&-1323142179 3&24906919834 3&24906923116 3&-2183963 3&-1701784 3&43000 3&39000 4 47464 4 4 4 4 4\r\n",
      "3&24935590032 3&-1976845401 3&-1531996137 3&24935588670 3&24935591356 3&3118787 3&2430201 3&40000 3&35000 4 46454 4 4 4 4 4\r\n",
      "3&20933196528 3&-24348461613 3&-18954202003 3&20933196432 3&20933197719 3&-483334 3&-376615 3&54000 3&50000 4 49484 4 4 4 4 4\r\n",
      "3&22951250763 3&-14194043975 3&-11016079853 3&22951250364 3&22951252783 3&-3696622 3&-2880487 3&46000 3&41000 4 47464 4 4 4 4 4\r\n",
      "3&24424603178 3&-5108140001 3&-3972319223 3&24424602393 3&24424610730 3&-1668111 3&-1299823 3&41000 3&37000 4 46464 4 4 4 4 4\r\n",
      "3&25268058632 3&2731789250 3&2149454620 3&25268057217 3&25268062033 3&-3207868 3&-2499644 3&41000 3&36000 4 46464 4 4 4 4 4\r\n",
      "                 1\r\n",
      "\r\n",
      "583031 3063610 2387226 582781 582621 -221 -168 0 0\r\n",
      "-385292 -2024779 -1577750 -385070 -385262 -541 -420 0 0\r\n",
      "-398881 -2097056 -1634064 -397846 -398119 -657 -496 0 1000\r\n",
      "-616768 -3239672 -2524417 -616893 -616816 -102 -74 0 0\r\n",
      "-117229 -615861 -479893 -116826 -117281 -584 -455 0 0\r\n",
      "415613 2184350 1702089 415653 415412 -573 -448 0 0\r\n",
      "-594292 -3118460 -2429953 -594799 -593698 -370 -278 0 0\r\n",
      "92023 483775 376966 91992 91832 -734 -578 0 0\r\n",
      "703577 3696927 2880727 702253 702538 -215 -175 0 1000      7\r\n",
      "317917 1668825 1300379 318053 317693 -1293 -1005 0 0\r\n",
      "609876 3207901 2499656 610133 611079 69 65 0 0\r\n",
      "                 2\r\n",
      "\r\n"
     ]
    }
   ],
   "source": [
    "!head -n50 {filepath}"
   ]
  },
  {
   "cell_type": "code",
   "execution_count": 7,
   "metadata": {
    "collapsed": false
   },
   "outputs": [
    {
     "data": {
      "text/plain": [
       "60"
      ]
     },
     "execution_count": 7,
     "metadata": {},
     "output_type": "execute_result"
    }
   ],
   "source": [
    "len('1.0                 COMPACT RINEX FORMAT                    ')"
   ]
  },
  {
   "cell_type": "code",
   "execution_count": 12,
   "metadata": {
    "collapsed": true
   },
   "outputs": [],
   "source": [
    "def read_rinex_obs_header__2_11(f):\n",
    "    '''\n",
    "    f -- file handle object\n",
    "    '''\n",
    "    header = {}\n",
    "    for line in f.readlines():\n",
    "        header_id = line[60:].strip()\n",
    "        if header_id == 'COMMENT':\n",
    "            continue\n",
    "        if header_id == '# / TYPES OF OBSERV':\n",
    "            elements = line[:60].split()\n",
    "            header['obs'] = {}\n",
    "            header['obs']['number'] = elements[0]\n",
    "            header['obs']['types'] = elements[1:]\n",
    "        if header_id == 'END OF HEADER':\n",
    "            break\n",
    "    return header"
   ]
  },
  {
   "cell_type": "code",
   "execution_count": 13,
   "metadata": {
    "collapsed": false
   },
   "outputs": [],
   "source": [
    "with open(filepath, 'r') as f:\n",
    "    header = read_rinex_obs_header__2_11(f)"
   ]
  },
  {
   "cell_type": "code",
   "execution_count": null,
   "metadata": {
    "collapsed": true
   },
   "outputs": [],
   "source": []
  }
 ],
 "metadata": {
  "kernelspec": {
   "display_name": "Python 3",
   "language": "python",
   "name": "python3"
  },
  "language_info": {
   "codemirror_mode": {
    "name": "ipython",
    "version": 3
   },
   "file_extension": ".py",
   "mimetype": "text/x-python",
   "name": "python",
   "nbconvert_exporter": "python",
   "pygments_lexer": "ipython3",
   "version": "3.4.3"
  }
 },
 "nbformat": 4,
 "nbformat_minor": 0
}
